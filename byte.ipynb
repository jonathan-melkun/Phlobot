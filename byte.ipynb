{
 "cells": [
  {
   "cell_type": "code",
   "execution_count": null,
   "id": "2cb3c19d-d3e6-4720-b3e9-a61325149788",
   "metadata": {
    "tags": []
   },
   "outputs": [],
   "source": [
    "from scipy import ndimage\n",
    "\n",
    "import numpy as np\n",
    "import StepperLib\n",
    "import pyfirmata\n",
    "import time\n",
    "import cv2"
   ]
  },
  {
   "cell_type": "code",
   "execution_count": null,
   "id": "75bcd1ce-06cd-4b86-b527-0372f4c5a2ae",
   "metadata": {
    "tags": []
   },
   "outputs": [],
   "source": [
    "BLUE_LOWER_BGR = [100,130,210]\n",
    "BLUE_UPPER_BGR = [140,255,255]\n",
    "\n",
    "WHITE_LOWER_BGR = [50,50,50]\n",
    "WHITE_UPPER_BGR = [255,255,255]\n",
    "\n",
    "RED_LOWER_BGR = [0,50,50]\n",
    "RED_UPPER_BGR = [10,255,255]\n",
    "\n",
    "GREEN_LOWER_BGR = [30, 140, 220]\n",
    "GREEN_UPPER_BGR = [50, 220, 255]\n",
    "\n",
    "IMAGE_SHAPE = (1080, 1920)\n",
    "\n",
    "JOYSTICK_X_PIN = 0\n",
    "JOYSTICK_Y_PIN = 1\n",
    "JOYSTICK_BUTTON_PIN = 2\n",
    "SERVO_PIN = 12\n",
    "\n",
    "# reported values from neutral position\n",
    "JOYSTICK_X_MID = 0.4839\n",
    "JOYSTICK_Y_MID = 0.4741\n",
    "\n",
    "STEPS_PER_REV = 2038 * 2 # number of steps for a full revolution\n",
    "MAX_SPEED = 4 # empirically fastest before it starts vibrating"
   ]
  },
  {
   "cell_type": "code",
   "execution_count": null,
   "id": "731ab552-b317-4666-9f5e-d91b56000915",
   "metadata": {
    "tags": []
   },
   "outputs": [],
   "source": [
    "board = pyfirmata.Arduino('/dev/tty.usbserial-130')\n",
    "\n",
    "it = pyfirmata.util.Iterator(board)\n",
    "it.start()"
   ]
  },
  {
   "cell_type": "code",
   "execution_count": null,
   "id": "0d67b462-f021-4e57-9347-d6ca2110bd0d",
   "metadata": {
    "tags": []
   },
   "outputs": [],
   "source": [
    "motor_x = StepperLib.Stepper(STEPS_PER_REV, board, it, 8, 9, 10, 11)\n",
    "motor_y = StepperLib.Stepper(STEPS_PER_REV, board, it, 4, 5, 6, 7)\n",
    "\n",
    "# joystick setup\n",
    "board.analog[JOYSTICK_X_PIN].enable_reporting()\n",
    "board.analog[JOYSTICK_Y_PIN].enable_reporting()\n",
    "\n",
    "# joystick button setup\n",
    "# INPUT_PULLUP is needed for the joystick button but only available on this fork of pyfirmata:\n",
    "# https://github.com/ale-novo/pyfirmata\n",
    "board.digital[JOYSTICK_BUTTON_PIN].mode = pyfirmata.INPUT_PULLUP\n",
    "\n",
    "# servo setup\n",
    "servo = board.get_pin(f\"d:{SERVO_PIN}:s\")"
   ]
  },
  {
   "cell_type": "code",
   "execution_count": null,
   "id": "ecce0fb2-5f3f-414c-b8b1-c0ed9f2d3f9f",
   "metadata": {
    "tags": []
   },
   "outputs": [],
   "source": [
    "def take_image(debug=False):\n",
    "    cam_port = 0 # should be iPhone camera\n",
    "    cam = cv2.VideoCapture(cam_port)\n",
    "    result = False\n",
    "\n",
    "    while not result:\n",
    "        result, image = cam.read()\n",
    "\n",
    "    # get several frames to give it time to focus\n",
    "    for _ in range(10):\n",
    "        result, image = cam.read()\n",
    "\n",
    "    # check that image size corresponds to phone camera\n",
    "    if not image.shape[:2] == IMAGE_SHAPE:\n",
    "        raise Exception(\"Wrong camera was used\")\n",
    "    \n",
    "    if debug:\n",
    "        cv2.imshow(\"Image\", image)\n",
    "        cv2.waitKey(0)\n",
    "        cv2.destroyWindow(\"Image\")\n",
    "        \n",
    "    return image"
   ]
  },
  {
   "cell_type": "code",
   "execution_count": null,
   "id": "fd27dc66-37b6-45f7-a55b-ddeab8af968d",
   "metadata": {
    "tags": []
   },
   "outputs": [],
   "source": [
    "def get_vein_coord(image, debug=False):\n",
    "    hsv = cv2.cvtColor(image, cv2.COLOR_BGR2HSV)\n",
    "\n",
    "    lower = np.array(BLUE_LOWER_BGR, np.uint8)\n",
    "    upper = np.array(BLUE_UPPER_BGR, np.uint8)\n",
    "    \n",
    "    mask = np.sign(cv2.inRange(hsv, lower, upper))\n",
    "    \n",
    "    image = cv2.bitwise_and(image, image, mask=mask)\n",
    "\n",
    "    center = ndimage.center_of_mass(mask)\n",
    "    center = int(center[0]), int(center[1])\n",
    "\n",
    "    if debug:\n",
    "        output = cv2.circle(image, (center[1], center[0]), 20, (0, 0, 255), 2)\n",
    "        cv2.imshow(\"Image\", output)\n",
    "        cv2.waitKey(0)\n",
    "        cv2.destroyWindow(\"Image\")\n",
    "        \n",
    "    return center"
   ]
  },
  {
   "cell_type": "code",
   "execution_count": null,
   "id": "6137ec3b-71ba-48e1-807e-3404a8477ae9",
   "metadata": {
    "tags": []
   },
   "outputs": [],
   "source": [
    "def get_target_coord(image, color, debug=False):\n",
    "    hsv = cv2.cvtColor(image, cv2.COLOR_BGR2HSV)\n",
    "    \n",
    "    if color == 'blue':\n",
    "        lower = np.array(BLUE_LOWER_BGR, np.uint8)\n",
    "        upper = np.array(BLUE_UPPER_BGR, np.uint8)\n",
    "    elif color == 'white':\n",
    "        lower = np.array(WHITE_LOWER_BGR, np.uint8)\n",
    "        upper = np.array(WHITE_UPPER_BGR, np.uint8)\n",
    "    elif color == 'red':\n",
    "        lower = np.array(RED_LOWER_BGR, np.uint8)\n",
    "        upper = np.array(RED_UPPER_BGR, np.uint8)\n",
    "    elif color == 'green':\n",
    "        lower = np.array(GREEN_LOWER_BGR, np.uint8)\n",
    "        upper = np.array(GREEN_UPPER_BGR, np.uint8)\n",
    "    else:\n",
    "        raise Exception(\"Invalid color\")\n",
    "        \n",
    "    mask = cv2.inRange(hsv, lower, upper)\n",
    "    \n",
    "\n",
    "    # Remove unnecessary noise from mask\n",
    "    kernel = np.ones((32, 32),np.uint8)\n",
    "    mask = cv2.morphologyEx(mask, cv2.MORPH_CLOSE, kernel)\n",
    "    mask = cv2.morphologyEx(mask, cv2.MORPH_OPEN, kernel)\n",
    "    mask = np.sign(cv2.inRange(hsv, lower, upper))\n",
    "    \n",
    "    # very jank code to find the center\n",
    "    top_left = mask[:IMAGE_SHAPE[0]//2,:IMAGE_SHAPE[1]//2]\n",
    "    top_right = mask[:IMAGE_SHAPE[0]//2, IMAGE_SHAPE[1]//2:]\n",
    "    bottom_left = mask[IMAGE_SHAPE[0]//2:,:IMAGE_SHAPE[1]//2]\n",
    "    bottom_right = mask[IMAGE_SHAPE[0]//2:,IMAGE_SHAPE[1]//2:]\n",
    "    \n",
    "    top_left_center = np.array(ndimage.center_of_mass(top_left))\n",
    "    \n",
    "    top_right_center = np.array(ndimage.center_of_mass(top_right))\n",
    "    top_right_center[1] += IMAGE_SHAPE[1]//2\n",
    "    \n",
    "    bottom_left_center = np.array(ndimage.center_of_mass(bottom_left))\n",
    "    bottom_left_center[0] += IMAGE_SHAPE[0]//2\n",
    "    \n",
    "    bottom_right_center = np.array(ndimage.center_of_mass(bottom_right))\n",
    "    bottom_right_center[0] += IMAGE_SHAPE[0]//2\n",
    "    bottom_right_center[1] += IMAGE_SHAPE[1]//2\n",
    "    \n",
    "    center = (top_left_center + top_right_center + bottom_left_center + bottom_right_center) / 4\n",
    "    center = int(center[0]), int(center[1])\n",
    "    \n",
    "    image = cv2.bitwise_and(image, image, mask=mask)\n",
    "\n",
    "    if debug:\n",
    "        output = cv2.circle(image, (center[1], center[0]), 20, (0, 0, 255), 2)\n",
    "        cv2.imshow(\"Image\", output)\n",
    "        cv2.waitKey(0)\n",
    "        cv2.destroyWindow(\"Image\")\n",
    "        \n",
    "    return center"
   ]
  },
  {
   "cell_type": "code",
   "execution_count": null,
   "id": "46127330-81e5-4331-81e7-b7b0610bfe05",
   "metadata": {},
   "outputs": [],
   "source": [
    "# power is between -1 and 1\n",
    "def rotate_motor(motor, power):\n",
    "    if abs(power) < 0.7:\n",
    "        return\n",
    "    motor.set_speed(abs(power * MAX_SPEED))\n",
    "    motor.step(np.sign(power) * 10)\n",
    "    \n",
    "def get_motor_power(joystick_val, mid_val):\n",
    "    return (joystick_val - mid_val) / mid_val"
   ]
  },
  {
   "cell_type": "code",
   "execution_count": null,
   "id": "206cd553-14e9-4b2b-b87e-e674b6aa3290",
   "metadata": {
    "tags": []
   },
   "outputs": [],
   "source": [
    "def joystick_control():\n",
    "    \n",
    "    button_state = True\n",
    "    servo_angle = 0\n",
    "    \n",
    "    while True:\n",
    "        joystick_x = board.analog[JOYSTICK_X_PIN].read()\n",
    "        joystick_y = board.analog[JOYSTICK_Y_PIN].read()\n",
    "        button = board.digital[JOYSTICK_BUTTON_PIN].read()\n",
    "\n",
    "        if None in (joystick_x, joystick_y, button):\n",
    "            continue\n",
    "\n",
    "        if button_state != button and not button:\n",
    "            servo_angle = abs(servo_angle - 90)\n",
    "            servo.write(servo_angle)\n",
    "        button_state = button\n",
    "\n",
    "        rotate_motor(motor_x, get_motor_power(joystick_x, JOYSTICK_X_MID))\n",
    "        rotate_motor(motor_y, get_motor_power(joystick_y, JOYSTICK_Y_MID))"
   ]
  },
  {
   "cell_type": "code",
   "execution_count": null,
   "id": "698848f2-8db3-431f-8887-f9b802392e6a",
   "metadata": {
    "tags": []
   },
   "outputs": [],
   "source": [
    "def main():\n",
    "    cam_port = 0 # should be iPhone camera\n",
    "    cam = cv2.VideoCapture(cam_port)\n",
    "    result = False\n",
    "\n",
    "    while not result:\n",
    "        result, image = cam.read()\n",
    "\n",
    "    for _ in range(50):\n",
    "        result, image = cam.read()\n",
    "\n",
    "    image = take_image()\n",
    "    target = get_target_coord(image, 'green')\n",
    "    coord = get_vein_coord(image)\n",
    "\n",
    "    motor_x.set_speed(MAX_SPEED)\n",
    "    motor_y.set_speed(MAX_SPEED)\n",
    "\n",
    "    i = 0\n",
    "    while True:\n",
    "        if abs(target[0] - coord[0]) < 10:\n",
    "            print('break')\n",
    "            print(target, coord)\n",
    "            motor_x.step(-500)\n",
    "            time.sleep(0.2)\n",
    "            motor_x.step(-100)\n",
    "            time.sleep(0.3)\n",
    "            motor_x.step(-100)\n",
    "            time.sleep(0.1)\n",
    "            motor_x.step(-100)\n",
    "            time.sleep(0.5)\n",
    "            servo.write(0)\n",
    "            time.sleep(5)\n",
    "            \n",
    "            servo.write(90)\n",
    "            break\n",
    "\n",
    "        if target[0] > coord[0]:\n",
    "            motor_y.step(-100)\n",
    "            print(\"moving down\")\n",
    "        else:\n",
    "            motor_y.step(100)\n",
    "            print(\"moving up\")\n",
    "        _, image = cam.read()\n",
    "\n",
    "\n",
    "        target = get_target_coord(image, 'green')\n",
    "        coord = get_vein_coord(image)\n",
    "\n",
    "        output = cv2.circle(image, (target[1], target[0]), 20, (0, 0, 255), 2)\n",
    "        output = cv2.circle(output, (coord[1], coord[0]), 20, (0, 255, 0), 2)\n",
    "        cv2.imwrite(f'frame{i}.jpg', output)\n",
    "        i+=1\n",
    "\n",
    "    cam.release()"
   ]
  },
  {
   "cell_type": "code",
   "execution_count": null,
   "id": "7f29e5f5-6750-47a3-a888-85dc2407d3aa",
   "metadata": {
    "tags": []
   },
   "outputs": [],
   "source": [
    "# main()"
   ]
  },
  {
   "cell_type": "code",
   "execution_count": null,
   "id": "9395dae3-6a2d-46cd-adb5-1b21f7ed7144",
   "metadata": {
    "tags": []
   },
   "outputs": [],
   "source": [
    "# joystick_control()"
   ]
  },
  {
   "cell_type": "code",
   "execution_count": null,
   "id": "3fffeee3-0d25-4494-8557-b16decce214c",
   "metadata": {},
   "outputs": [],
   "source": []
  }
 ],
 "metadata": {
  "kernelspec": {
   "display_name": "Python 3 (ipykernel)",
   "language": "python",
   "name": "python3"
  },
  "language_info": {
   "codemirror_mode": {
    "name": "ipython",
    "version": 3
   },
   "file_extension": ".py",
   "mimetype": "text/x-python",
   "name": "python",
   "nbconvert_exporter": "python",
   "pygments_lexer": "ipython3",
   "version": "3.8.16"
  }
 },
 "nbformat": 4,
 "nbformat_minor": 5
}
